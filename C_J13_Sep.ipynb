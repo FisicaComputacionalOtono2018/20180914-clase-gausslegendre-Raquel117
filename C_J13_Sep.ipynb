{
  "nbformat": 4,
  "nbformat_minor": 0,
  "metadata": {
    "colab": {
      "name": "C-J13-Sep.ipynb",
      "version": "0.3.2",
      "provenance": []
    },
    "kernelspec": {
      "name": "python3",
      "display_name": "Python 3"
    }
  },
  "cells": [
    {
      "metadata": {
        "id": "va8biisP0jgh",
        "colab_type": "code",
        "colab": {}
      },
      "cell_type": "code",
      "source": [
        "from sympy import *\n",
        "x = Symbol('x')\n",
        "\n",
        "def f(n):\n",
        "  u = 1\n",
        "  for i in range(1, n+1):\n",
        "    u = u*i\n",
        "  return u\n",
        "\n",
        "def w(n, x):\n",
        "  c = (1*2**-n)*f(n)**-1\n",
        "  d = c*diff(((x**2)-1)**n, x, n)\n",
        "  return 2/((1-x**2)*diff(d)**2)\n",
        "\n",
        "def polinomio(coeficientes, x):\n",
        "  potencia = 0\n",
        "  funcion = 0\n",
        "  for i in coeficientes:\n",
        "    funcion = funcion + float(i)*x**potencia\n",
        "    poptencia = potencia+1\n",
        "  return funcion\n",
        "\n",
        "coeficientes = [0, 0, 2, 1]\n",
        "n = int(input(\"Grado del polinoimio: \"))\n",
        "v = [0.1, 0.57]\n",
        "\n",
        "for i in v:\n",
        "  sum = sum+(w(n, x).subs(x, i))*((polinomio(coeficientes, x).subs(x, i)))\n",
        "\n",
        "  print(sum)"
      ],
      "execution_count": 0,
      "outputs": []
    },
    {
      "metadata": {
        "id": "CSid9hR1GDsC",
        "colab_type": "code",
        "colab": {
          "base_uri": "https://localhost:8080/",
          "height": 51
        },
        "outputId": "32d71843-15d1-4dcf-8536-1265c8577ce4"
      },
      "cell_type": "code",
      "source": [
        "from sympy import *\n",
        "\n",
        "x = Symbol('x')\n",
        "n = int(input(\"Ingrese grado del polinomio: \"))\n",
        "\n",
        "def factorial(n):\n",
        "  u = 1\n",
        "  for i in range(1, n+1):\n",
        "    u = u*i\n",
        "  return u\n",
        "\n",
        "def polinomion(n, x):\n",
        "  return ((x**2)-1)**n\n",
        "\n",
        "print(polinomion(n, x))"
      ],
      "execution_count": 8,
      "outputs": [
        {
          "output_type": "stream",
          "text": [
            "Ingrese grado del polinomio: 10\n",
            "(x**2 - 1)**10\n"
          ],
          "name": "stdout"
        }
      ]
    }
  ]
}