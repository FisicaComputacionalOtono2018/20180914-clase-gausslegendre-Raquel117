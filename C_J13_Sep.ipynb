{
  "nbformat": 4,
  "nbformat_minor": 0,
  "metadata": {
    "colab": {
      "name": "C-J13-Sep.ipynb",
      "version": "0.3.2",
      "provenance": []
    },
    "kernelspec": {
      "name": "python3",
      "display_name": "Python 3"
    }
  },
  "cells": [
    {
      "metadata": {
        "id": "nVs-cf5zu6ST",
        "colab_type": "code",
        "colab": {
          "base_uri": "https://localhost:8080/",
          "height": 34
        },
        "outputId": "cdfc5fc9-8f16-4c17-b785-d17b7b336f46"
      },
      "cell_type": "code",
      "source": [
        "import numpy as np\n",
        "import math as mt\n",
        "import matplotlib.pyplot as plt\n",
        "\n",
        "\n",
        "def factorial(w):\n",
        "  prod = 1\n",
        "  for i in range(1, w+1):\n",
        "    prod = prod*i\n",
        "  return prod\n",
        "\n",
        "#n = int(input(\"Valor n: \"))\n",
        "#print(\"Factorial: \", factorial(n))\n",
        "\n",
        "\n",
        "\n",
        "def Pn_1(x):\n",
        "  return 1/((2**x)*(factorial(x)))\n",
        "\n",
        "#n = int(input(\"Valor n: \"))\n",
        "#print(\"Pn - Primera parte: \", Pn_1(n))\n",
        "\n",
        "\n",
        "\n",
        "#Nota: Toma 0^0=1 (cuando x=1 y n=0)\n",
        "\n",
        "def Pn_2(y, r):\n",
        "  return ((y**2)-1)**r\n",
        "\n",
        "#n = int(input(\"Valor n: \"))\n",
        "#x = int(input(\"Valor x: \"))\n",
        "#print(\"Pn - Segunda parte: \", Pn_2(x, n))\n",
        "\n",
        "\n",
        "\n",
        "def Pn_3(z, s):\n",
        "  return (())\n",
        "\n",
        "\n",
        "\n",
        "\n",
        "\n",
        "\n",
        "#n = int(input(\"Valor n: \"))\n",
        "#x = int(input(\"Valor x: \"))\n",
        "#print(\"Pn - Tercera parte: \", Pn_3(x, n))\n",
        "\n",
        "\n",
        "\n",
        "\n",
        "\n",
        "\n",
        "\n",
        "#Función para evaluar el polinomio derivado en cierto valor de x fijo, tomando los coeficientes del vector dado:\n",
        "def dp(coeficientes, x):\n",
        "  potencia = 0\n",
        "  funciondp = 0\n",
        "\n",
        "  for i in coeficientes:\n",
        "    funciondp = funciondp + int(i)*potencia*x**(potencia-1)\n",
        "    potencia = potencia + 1\n",
        "  return funciondp\n",
        "\n",
        "coeficientes = [1, 2, 1]\n",
        "\n",
        "x = 5\n",
        "\n",
        "print(\"Derivada: \", dp(coeficientes, x))\n",
        "\n"
      ],
      "execution_count": 42,
      "outputs": [
        {
          "output_type": "stream",
          "text": [
            "Derivada:  12.0\n"
          ],
          "name": "stdout"
        }
      ]
    }
  ]
}